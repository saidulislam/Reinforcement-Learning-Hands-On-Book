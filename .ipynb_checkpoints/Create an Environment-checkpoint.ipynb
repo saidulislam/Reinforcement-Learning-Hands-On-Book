{
 "cells": [
  {
   "cell_type": "markdown",
   "metadata": {},
   "source": [
    "In this tutorial, we have a <span style=\"color:lightblue;\">player blob (blue)</span> which aims to navigate its way as quickly as possible to the <span style=\"color:lightgreen;\">food blob (green)</span>, while avoiding the <span style=\"color:red;\">enemy blob (red)</span>."
   ]
  },
  {
   "cell_type": "code",
   "execution_count": 5,
   "metadata": {},
   "outputs": [],
   "source": [
    "# Import the libraries\n",
    "import numpy as npt\n",
    "from PIL import Image\n",
    "import cv2\n",
    "import matplotlib.pyplot as plt\n",
    "from matplotlib import style\n",
    "import pickle\n",
    "import time"
   ]
  },
  {
   "cell_type": "code",
   "execution_count": 4,
   "metadata": {},
   "outputs": [],
   "source": [
    "# Set the style\n",
    "style.use(\"ggplot\")"
   ]
  },
  {
   "cell_type": "code",
   "execution_count": 7,
   "metadata": {},
   "outputs": [],
   "source": [
    "# Hyaperparameters\n",
    "SIZE = 10     # 10x10 grid environment\n",
    "EPISODES = 25000\n",
    "MOVE_PENALTY = 1\n",
    "ENEMY_PENALTY = 300\n",
    "FOOD_REWARD = 25\n",
    "epsilon = 0.9\n",
    "EPS_DECAY = 0.9998   # Epsilon decay\n",
    "SHOW_EVERY = 3000\n",
    "LEARNING_RATE = 0.1\n",
    "DISCOUNT = 0.95      # Gamma"
   ]
  },
  {
   "cell_type": "code",
   "execution_count": 8,
   "metadata": {},
   "outputs": [],
   "source": [
    "# Initialize the Q table\n",
    "start_q_table = None    # Also this can be assigned to some filename"
   ]
  },
  {
   "cell_type": "code",
   "execution_count": 9,
   "metadata": {},
   "outputs": [],
   "source": [
    "# Give a representation number to each of the components\n",
    "PLAYER_N = 1\n",
    "FOOD_N = 2\n",
    "ENEMY_N = 3\n",
    "\n",
    "# Create a dictionary for each that maps number to their color\n",
    "d = {1: (255, 175, 0),\n",
    "     2: (0, 255, 0),\n",
    "     3: (0, 0, 255)}"
   ]
  },
  {
   "cell_type": "code",
   "execution_count": null,
   "metadata": {},
   "outputs": [],
   "source": [
    "class Blob:\n",
    "    \n",
    "    # The constructor function\n",
    "    def __init__(self):\n",
    "        \n",
    "        # X axis position\n",
    "        self.x = np.random.randint(0, SIZE)\n",
    "        \n",
    "        # Y axis position\n",
    "        self.y = np.random.randint(0, SIZE)\n",
    "        \n",
    "    # Method for printing the blob's location\n",
    "    def __str__(self):\n",
    "        return f\"{self.x}, {self.y}\"\n",
    "    \n",
    "    "
   ]
  }
 ],
 "metadata": {
  "kernelspec": {
   "display_name": "Python 3",
   "language": "python",
   "name": "python3"
  },
  "language_info": {
   "codemirror_mode": {
    "name": "ipython",
    "version": 3
   },
   "file_extension": ".py",
   "mimetype": "text/x-python",
   "name": "python",
   "nbconvert_exporter": "python",
   "pygments_lexer": "ipython3",
   "version": "3.6.5"
  }
 },
 "nbformat": 4,
 "nbformat_minor": 2
}
