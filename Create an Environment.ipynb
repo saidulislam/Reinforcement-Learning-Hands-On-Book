{
 "cells": [
  {
   "cell_type": "markdown",
   "metadata": {},
   "source": [
    "In this tutorial, we have a <span style=\"color:lightblue;\">player blob (blue)</span> which aims to navigate its way as quickly as possible to the <span style=\"color:lightgreen;\">food blob (green)</span>, while avoiding the <span style=\"color:red;\">enemy blob (red)</span>."
   ]
  },
  {
   "cell_type": "code",
   "execution_count": 5,
   "metadata": {},
   "outputs": [],
   "source": [
    "# Import the libraries\n",
    "import numpy as npt\n",
    "from PIL import Image\n",
    "import cv2\n",
    "import matplotlib.pyplot as plt\n",
    "from matplotlib import style\n",
    "import pickle\n",
    "import time"
   ]
  },
  {
   "cell_type": "code",
   "execution_count": 4,
   "metadata": {},
   "outputs": [],
   "source": [
    "# Set the style\n",
    "style.use(\"ggplot\")"
   ]
  },
  {
   "cell_type": "code",
   "execution_count": 7,
   "metadata": {},
   "outputs": [],
   "source": [
    "# Hyaperparameters\n",
    "SIZE = 10     # 10x10 grid environment\n",
    "EPISODES = 25000\n",
    "MOVE_PENALTY = 1\n",
    "ENEMY_PENALTY = 300\n",
    "FOOD_REWARD = 25\n",
    "epsilon = 0.9\n",
    "EPS_DECAY = 0.9998   # Epsilon decay\n",
    "SHOW_EVERY = 3000\n",
    "LEARNING_RATE = 0.1\n",
    "DISCOUNT = 0.95      # Gamma"
   ]
  },
  {
   "cell_type": "code",
   "execution_count": 8,
   "metadata": {},
   "outputs": [],
   "source": [
    "# Initialize the Q table\n",
    "start_q_table = None    # Also this can be assigned to some filename"
   ]
  },
  {
   "cell_type": "code",
   "execution_count": 9,
   "metadata": {},
   "outputs": [],
   "source": [
    "# Give a representation number to each of the components\n",
    "PLAYER_N = 1\n",
    "FOOD_N = 2\n",
    "ENEMY_N = 3\n",
    "\n",
    "# Create a dictionary for each that maps number to their color\n",
    "d = {1: (255, 175, 0),\n",
    "     2: (0, 255, 0),\n",
    "     3: (0, 0, 255)}"
   ]
  },
  {
   "cell_type": "code",
   "execution_count": null,
   "metadata": {},
   "outputs": [],
   "source": [
    "class Blob:\n",
    "    \n",
    "    # The constructor function\n",
    "    def __init__(self):\n",
    "        # X axis position\n",
    "        self.x = np.random.randint(0, SIZE)\n",
    "        # Y axis position\n",
    "        self.y = np.random.randint(0, SIZE)\n",
    "        \n",
    "    # Method for printing the blob's location\n",
    "    def __str__(self):\n",
    "        return f\"{self.x}, {self.y}\"\n",
    "    \n",
    "    # Subtraction method\n",
    "    def __sub__(self, other):\n",
    "        return (self.x - other.x, self.y-other.y)\n",
    "    \n",
    "    # Action method\n",
    "    def action(self, choice):\n",
    "        if choice == 0:\n",
    "            self.move(x = 1, y = 1)\n",
    "        elif choice == 1:\n",
    "            self.move(x = -1, y=-1)\n",
    "        elif choice == 2:\n",
    "            self.move(x=-1, y=1)\n",
    "        elif choice == 3:\n",
    "            self.move(x=1, y=-1)\n",
    "\n",
    "    def move(self, x=False, y=False):\n",
    "\n",
    "        # If no value for x, move randomly\n",
    "        if not x:\n",
    "            self.x += np.random.randint(-1, 2)\n",
    "        else:\n",
    "            self.x += x\n",
    "\n",
    "        # If no value for y, move randomly\n",
    "        if not y:\n",
    "            self.y += np.random.randint(-1, 2)\n",
    "        else:\n",
    "            self.y += y\n",
    "\n",
    "\n",
    "        # If we are out of bounds, fix!\n",
    "        if self.x < 0:\n",
    "            self.x = 0\n",
    "        elif self.x > SIZE-1:\n",
    "            self.x = SIZE-1\n",
    "        if self.y < 0:\n",
    "            self.y = 0\n",
    "        elif self.y > SIZE-1:\n",
    "            self.y = SIZE-1"
   ]
  },
  {
   "cell_type": "code",
   "execution_count": null,
   "metadata": {},
   "outputs": [],
   "source": [
    "# The environment\n",
    "class Environment:\n",
    "    \n",
    "    # Initialization function\n",
    "    def __init__(self):\n",
    "        \"\"\"\n",
    "        Funcion for initializing the internal state of the environment. In here, we assign \n",
    "        a counter that limits the number of time steps the agent is allowed to take to \n",
    "        interact with the environment.\n",
    "        \"\"\"\n",
    "        self.steps_left = 10\n",
    "\n",
    "    # Get the observation\n",
    "    def get_observation(self):\n",
    "        \"\"\"\n",
    "        Function for getting the current environment's observation. In here, we return the \n",
    "        observation vector of zero since the environment has no internal state.\n",
    "        \"\"\"\n",
    "        return [0.0, 0.0, 0.0]\n",
    "\n",
    "    # Get the action\n",
    "    def get_actions(self):\n",
    "        \"\"\"\n",
    "        Function for querying the set of actions it can execute.\n",
    "        \"\"\"\n",
    "        return [0, 1]\n",
    "\n",
    "    # Signal the end of episode\n",
    "    def is_done(self):\n",
    "        \"\"\"\n",
    "        Function that signals the end of the episode to the agent.\n",
    "        \"\"\"\n",
    "        return self.steps_left == 0\n",
    "\n",
    "    \n",
    "    def action(self, action):\n",
    "        \"\"\"\n",
    "        Function for action which does the following two things:\n",
    "            - Handles the agent's action\n",
    "            - Returns the reward for this action.\n",
    "            \n",
    "        In here, the reward is random and its action is discarded. Additionally, we update the \n",
    "        count of steps and refuse to continue the episodes which are over.\n",
    "        \"\"\"\n",
    "        # If in terminal state, then game is finisehd\n",
    "        if self.is_done():\n",
    "            raise Exception(\"Game is over\")\n",
    "            \n",
    "        # Decreasing the time step by 1\n",
    "        self.steps_left -= 1\n",
    "        \n",
    "        # Return a random reward\n",
    "        return random.random()"
   ]
  },
  {
   "cell_type": "code",
   "execution_count": null,
   "metadata": {},
   "outputs": [],
   "source": []
  }
 ],
 "metadata": {
  "kernelspec": {
   "display_name": "Python 3",
   "language": "python",
   "name": "python3"
  },
  "language_info": {
   "codemirror_mode": {
    "name": "ipython",
    "version": 3
   },
   "file_extension": ".py",
   "mimetype": "text/x-python",
   "name": "python",
   "nbconvert_exporter": "python",
   "pygments_lexer": "ipython3",
   "version": "3.6.5"
  }
 },
 "nbformat": 4,
 "nbformat_minor": 2
}
